{
  "nbformat": 4,
  "nbformat_minor": 0,
  "metadata": {
    "colab": {
      "provenance": [],
      "include_colab_link": true
    },
    "kernelspec": {
      "name": "python3",
      "display_name": "Python 3"
    },
    "language_info": {
      "name": "python"
    }
  },
  "cells": [
    {
      "cell_type": "markdown",
      "metadata": {
        "id": "view-in-github",
        "colab_type": "text"
      },
      "source": [
        "<a href=\"https://colab.research.google.com/github/Numenns/Quantum-Machine-Learning-QML-/blob/main/QSVC_using_Qiskit.ipynb\" target=\"_parent\"><img src=\"https://colab.research.google.com/assets/colab-badge.svg\" alt=\"Open In Colab\"/></a>"
      ]
    },
    {
      "cell_type": "code",
      "execution_count": null,
      "metadata": {
        "colab": {
          "base_uri": "https://localhost:8080/"
        },
        "id": "lAOZM1qeFM-3",
        "outputId": "886e2ed8-4934-4725-84fd-a8a72ca7163a"
      },
      "outputs": [
        {
          "output_type": "stream",
          "name": "stdout",
          "text": [
            "Drive already mounted at /gdrive; to attempt to forcibly remount, call drive.mount(\"/gdrive\", force_remount=True).\n",
            "First Few Rows of the Dataset:\n",
            "  Customer_ID  Feature_1  Feature_2  Feature_3  Feature_4  Feature_5  \\\n",
            "0  CST_000001  40.967142  34.617357  42.476885  51.230299  33.658466   \n",
            "1  CST_000002  54.656488  37.742237  40.675282  25.752518  34.556173   \n",
            "2  CST_000003  57.384666  51.713683  48.843517  46.988963  35.214780   \n",
            "3  CST_000004  40.208258  43.143410  33.936650  33.037934  53.125258   \n",
            "4  CST_000005  47.803281  53.571126  64.778940  44.817298  41.915064   \n",
            "\n",
            "   Feature_6  Feature_7  Feature_8  Feature_9  ...  Feature_12  Feature_13  \\\n",
            "0  33.658630  51.792128  43.674347  31.305256  ...   31.342702   38.419623   \n",
            "1  41.109226  28.490064  43.756980  33.993613  ...   58.522782   39.865028   \n",
            "2  42.801558  45.393612  60.571222  53.436183  ...   46.149177   43.230780   \n",
            "3  58.562400  44.279899  55.035329  48.616360  ...   60.380366   44.641740   \n",
            "4  44.982430  59.154021  53.287511  44.702398  ...   59.686450   42.979469   \n",
            "\n",
            "   Feature_14  Feature_15  Feature_16  Feature_17  Feature_18  Feature_19  \\\n",
            "0   16.867198   18.750822   30.377125   25.871689   39.142473   26.919759   \n",
            "1   29.422891   48.225449   27.791564   42.088636   20.403299   26.718140   \n",
            "2   56.116763   60.309995   59.312801   41.607825   46.907876   53.312634   \n",
            "3   60.646437   18.802549   53.219025   45.870471   42.009926   45.917608   \n",
            "4   46.723379   46.078918   35.364851   52.961203   52.610553   50.051135   \n",
            "\n",
            "   Feature_20  Defaulted  \n",
            "0   21.876963          1  \n",
            "1   41.968612          1  \n",
            "2   59.755451          0  \n",
            "3   25.124311          1  \n",
            "4   47.654129          0  \n",
            "\n",
            "[5 rows x 22 columns]\n",
            "\n",
            "Summary Statistics:\n",
            "         Feature_1    Feature_2    Feature_3    Feature_4    Feature_5  \\\n",
            "count  1000.000000  1000.000000  1000.000000  1000.000000  1000.000000   \n",
            "mean     45.544224    45.353388    44.451330    45.495743    45.758749   \n",
            "std      11.524903    10.922646    11.210274    11.155932    11.403379   \n",
            "min       5.584862     7.704962     7.587327     9.568584     6.614853   \n",
            "25%      38.401248    37.772195    36.806630    38.285658    37.709062   \n",
            "50%      46.135053    44.964470    44.314745    45.588769    45.503679   \n",
            "75%      53.303012    52.430993    51.758016    53.043950    53.646642   \n",
            "max      75.031718    79.852590    76.478842    94.790843    82.877612   \n",
            "\n",
            "         Feature_6    Feature_7    Feature_8    Feature_9   Feature_10  ...  \\\n",
            "count  1000.000000  1000.000000  1000.000000  1000.000000  1000.000000  ...   \n",
            "mean     45.335487    45.148464    45.128854    45.165295    45.536840  ...   \n",
            "std      11.930513    11.167498    11.361862    11.344588    10.977675  ...   \n",
            "min       5.295743     5.788854     7.453733    12.325223    15.924343  ...   \n",
            "25%      37.019583    37.616931    37.444705    37.266028    38.317729  ...   \n",
            "50%      45.522652    45.496966    44.534902    45.598641    45.351919  ...   \n",
            "75%      53.989681    52.932523    53.095558    52.767910    52.687945  ...   \n",
            "max      84.289105    76.253056    78.740827    77.773829    82.527315  ...   \n",
            "\n",
            "        Feature_12   Feature_13   Feature_14   Feature_15   Feature_16  \\\n",
            "count  1000.000000  1000.000000  1000.000000  1000.000000  1000.000000   \n",
            "mean     45.611937    45.205116    44.590877    44.867212    45.266331   \n",
            "std      11.115679    10.846848    11.038689    11.491609    11.403311   \n",
            "min      13.116347     9.930118    11.121779    11.436247     8.674346   \n",
            "25%      38.033620    37.991334    36.441183    36.811189    37.627448   \n",
            "50%      45.503944    44.587489    44.378469    44.818455    45.245367   \n",
            "75%      52.820353    52.612754    52.324877    53.152639    52.876947   \n",
            "max      85.290552    81.404229    78.425937    76.796287    81.931076   \n",
            "\n",
            "        Feature_17   Feature_18   Feature_19   Feature_20   Defaulted  \n",
            "count  1000.000000  1000.000000  1000.000000  1000.000000  1000.00000  \n",
            "mean     45.817523    45.267500    45.251762    45.373442     0.50000  \n",
            "std      11.924069    11.384681    11.284594    11.008970     0.50025  \n",
            "min       8.705956     0.989149     8.261851     9.894775     0.00000  \n",
            "25%      37.871358    38.016091    37.652565    38.162277     0.00000  \n",
            "50%      46.195758    45.216177    45.467174    45.439963     0.50000  \n",
            "75%      53.813320    52.826390    53.183050    52.719138     1.00000  \n",
            "max      82.430930    81.377485    80.788808    77.832351     1.00000  \n",
            "\n",
            "[8 rows x 21 columns]\n"
          ]
        }
      ],
      "source": [
        "import pandas as pd\n",
        "\n",
        "# Load the dataset from a CSV file\n",
        "from google.colab import drive\n",
        "drive.mount('/gdrive')\n",
        "ruta = '/gdrive/MyDrive/Colab Notebooks/QML/customer_data_plus.csv'\n",
        "df = pd.read_csv(ruta)\n",
        "\n",
        "# Display the first few rows of the dataset\n",
        "print(\"First Few Rows of the Dataset:\")\n",
        "print(df.head())\n",
        "\n",
        "# Summarize the dataset\n",
        "print(\"\\nSummary Statistics:\")\n",
        "print(df.describe())\n",
        "\n",
        "# Define X and y\n",
        "X = df.drop(columns=[\"Customer_ID\", \"Defaulted\"])  # Drop ID and target\n",
        "y = df[\"Defaulted\"]  # Keep only the target variable"
      ]
    },
    {
      "cell_type": "code",
      "source": [
        "from sklearn.decomposition import PCA\n",
        "from sklearn.preprocessing import MinMaxScaler\n",
        "from sklearn.model_selection import train_test_split\n",
        "\n",
        "# Split the dataset into training and testing sets first\n",
        "X_train, X_test, y_train, y_test = train_test_split(X, y, test_size=0.20, random_state=42)\n",
        "\n",
        "# Standardize features separately for training and testing sets\n",
        "scaler = MinMaxScaler()\n",
        "X_train_scaled = scaler.fit_transform(X_train)\n",
        "X_test_scaled = scaler.transform(X_test)\n",
        "\n",
        "# Apply PCA only on the training data\n",
        "pca = PCA(n_components=2)\n",
        "X_train_pca = pca.fit_transform(X_train_scaled)\n",
        "\n",
        "# Transform the test data using the PCA fitted on the training set\n",
        "X_test_pca = pca.transform(X_test_scaled)\n",
        "\n",
        "# Display a summary of the PCA results\n",
        "explained_variance = pca.explained_variance_ratio_\n",
        "explained_variance"
      ],
      "metadata": {
        "colab": {
          "base_uri": "https://localhost:8080/"
        },
        "id": "PBD5F2XNGfEj",
        "outputId": "27419ab6-dc79-4995-b6d8-1d6d952c6413"
      },
      "execution_count": null,
      "outputs": [
        {
          "output_type": "execute_result",
          "data": {
            "text/plain": [
              "array([0.25437127, 0.05324604])"
            ]
          },
          "metadata": {},
          "execution_count": 10
        }
      ]
    },
    {
      "cell_type": "code",
      "source": [
        "#pip install qiskit-machine-learning matplotlib"
      ],
      "metadata": {
        "colab": {
          "base_uri": "https://localhost:8080/"
        },
        "id": "rwlDvt0sGwdW",
        "outputId": "ef1af47b-2c33-49c6-8d93-797ef31a3b50"
      },
      "execution_count": null,
      "outputs": [
        {
          "output_type": "stream",
          "name": "stdout",
          "text": [
            "Requirement already satisfied: qiskit-machine-learning in /usr/local/lib/python3.12/dist-packages (0.8.4)\n",
            "Requirement already satisfied: matplotlib in /usr/local/lib/python3.12/dist-packages (3.10.0)\n",
            "Requirement already satisfied: qiskit<2.0,>=1.0 in /usr/local/lib/python3.12/dist-packages (from qiskit-machine-learning) (1.4.4)\n",
            "Requirement already satisfied: numpy>=2.0 in /usr/local/lib/python3.12/dist-packages (from qiskit-machine-learning) (2.0.2)\n",
            "Requirement already satisfied: scipy<1.16,>=1.4 in /usr/local/lib/python3.12/dist-packages (from qiskit-machine-learning) (1.15.3)\n",
            "Requirement already satisfied: scikit-learn>=1.2 in /usr/local/lib/python3.12/dist-packages (from qiskit-machine-learning) (1.6.1)\n",
            "Requirement already satisfied: setuptools>=40.1 in /usr/local/lib/python3.12/dist-packages (from qiskit-machine-learning) (75.2.0)\n",
            "Requirement already satisfied: dill>=0.3.4 in /usr/local/lib/python3.12/dist-packages (from qiskit-machine-learning) (0.3.8)\n",
            "Requirement already satisfied: contourpy>=1.0.1 in /usr/local/lib/python3.12/dist-packages (from matplotlib) (1.3.3)\n",
            "Requirement already satisfied: cycler>=0.10 in /usr/local/lib/python3.12/dist-packages (from matplotlib) (0.12.1)\n",
            "Requirement already satisfied: fonttools>=4.22.0 in /usr/local/lib/python3.12/dist-packages (from matplotlib) (4.60.0)\n",
            "Requirement already satisfied: kiwisolver>=1.3.1 in /usr/local/lib/python3.12/dist-packages (from matplotlib) (1.4.9)\n",
            "Requirement already satisfied: packaging>=20.0 in /usr/local/lib/python3.12/dist-packages (from matplotlib) (25.0)\n",
            "Requirement already satisfied: pillow>=8 in /usr/local/lib/python3.12/dist-packages (from matplotlib) (11.3.0)\n",
            "Requirement already satisfied: pyparsing>=2.3.1 in /usr/local/lib/python3.12/dist-packages (from matplotlib) (3.2.4)\n",
            "Requirement already satisfied: python-dateutil>=2.7 in /usr/local/lib/python3.12/dist-packages (from matplotlib) (2.9.0.post0)\n",
            "Requirement already satisfied: six>=1.5 in /usr/local/lib/python3.12/dist-packages (from python-dateutil>=2.7->matplotlib) (1.17.0)\n",
            "Requirement already satisfied: rustworkx>=0.15.0 in /usr/local/lib/python3.12/dist-packages (from qiskit<2.0,>=1.0->qiskit-machine-learning) (0.17.1)\n",
            "Requirement already satisfied: sympy>=1.3 in /usr/local/lib/python3.12/dist-packages (from qiskit<2.0,>=1.0->qiskit-machine-learning) (1.13.3)\n",
            "Requirement already satisfied: stevedore>=3.0.0 in /usr/local/lib/python3.12/dist-packages (from qiskit<2.0,>=1.0->qiskit-machine-learning) (5.5.0)\n",
            "Requirement already satisfied: typing-extensions in /usr/local/lib/python3.12/dist-packages (from qiskit<2.0,>=1.0->qiskit-machine-learning) (4.15.0)\n",
            "Requirement already satisfied: symengine<0.14,>=0.11 in /usr/local/lib/python3.12/dist-packages (from qiskit<2.0,>=1.0->qiskit-machine-learning) (0.13.0)\n",
            "Requirement already satisfied: joblib>=1.2.0 in /usr/local/lib/python3.12/dist-packages (from scikit-learn>=1.2->qiskit-machine-learning) (1.5.2)\n",
            "Requirement already satisfied: threadpoolctl>=3.1.0 in /usr/local/lib/python3.12/dist-packages (from scikit-learn>=1.2->qiskit-machine-learning) (3.6.0)\n",
            "Requirement already satisfied: mpmath<1.4,>=1.1.0 in /usr/local/lib/python3.12/dist-packages (from sympy>=1.3->qiskit<2.0,>=1.0->qiskit-machine-learning) (1.3.0)\n"
          ]
        }
      ]
    },
    {
      "cell_type": "code",
      "source": [
        "#pip install pylatexenc"
      ],
      "metadata": {
        "colab": {
          "base_uri": "https://localhost:8080/"
        },
        "id": "gnvifM7bHerJ",
        "outputId": "4a061777-56ce-4f23-faa1-55ccadbf8499"
      },
      "execution_count": null,
      "outputs": [
        {
          "output_type": "stream",
          "name": "stdout",
          "text": [
            "Collecting pylatexenc\n",
            "  Downloading pylatexenc-2.10.tar.gz (162 kB)\n",
            "\u001b[2K     \u001b[90m━━━━━━━━━━━━━━━━━━━━━━━━━━━━━━━━━━━━━━━\u001b[0m \u001b[32m162.6/162.6 kB\u001b[0m \u001b[31m2.8 MB/s\u001b[0m eta \u001b[36m0:00:00\u001b[0m\n",
            "\u001b[?25h  Preparing metadata (setup.py) ... \u001b[?25l\u001b[?25hdone\n",
            "Building wheels for collected packages: pylatexenc\n",
            "  Building wheel for pylatexenc (setup.py) ... \u001b[?25l\u001b[?25hdone\n",
            "  Created wheel for pylatexenc: filename=pylatexenc-2.10-py3-none-any.whl size=136817 sha256=942fd5dabd11bb68acdef1b8e963eec35869d77e59c8b2f7b6cfd9eb2ce4422b\n",
            "  Stored in directory: /root/.cache/pip/wheels/06/3e/78/fa1588c1ae991bbfd814af2bcac6cef7a178beee1939180d46\n",
            "Successfully built pylatexenc\n",
            "Installing collected packages: pylatexenc\n",
            "Successfully installed pylatexenc-2.10\n"
          ]
        }
      ]
    },
    {
      "cell_type": "code",
      "source": [
        "from qiskit.circuit.library import ZZFeatureMap\n",
        "from qiskit.visualization import circuit_drawer\n",
        "\n",
        "# Define a 2-qubit feature map with more details\n",
        "feature_map = ZZFeatureMap(feature_dimension=2, reps=2, entanglement='linear')\n",
        "\n",
        "# Decompose the feature map to show detailed gates\n",
        "detailed_feature_map = feature_map.decompose()\n",
        "\n",
        "# Draw the detailed feature map circuit\n",
        "detailed_feature_map.draw(output='mpl')"
      ],
      "metadata": {
        "colab": {
          "base_uri": "https://localhost:8080/",
          "height": 191
        },
        "id": "z49lUEMtHj6J",
        "outputId": "ef402e7c-e683-4159-ce92-d066d8440c13"
      },
      "execution_count": null,
      "outputs": [
        {
          "output_type": "execute_result",
          "data": {
            "text/plain": [
              "<Figure size 1290.63x200.667 with 1 Axes>"
            ],
            "image/png": "[encoded data removed]"
          },
          "metadata": {},
          "execution_count": 11
        }
      ]
    },
    {
      "cell_type": "code",
      "source": [
        "from qiskit_machine_learning.kernels import FidelityStatevectorKernel\n",
        "from qiskit_machine_learning.algorithms.classifiers import QSVC\n",
        "\n",
        "# Define the quantum kernel using the feature map\n",
        "quantum_kernel = FidelityStatevectorKernel(feature_map=feature_map)\n",
        "\n",
        "# Initialize and train the QSVC\n",
        "model = QSVC(quantum_kernel=quantum_kernel, probability=True)\n",
        "model.fit(X_train_pca, y_train)\n",
        "\n",
        "# Make predictions\n",
        "y_pred = model.predict(X_test_pca)\n",
        "y_pred_proba = model.predict_proba(X_test_pca)[:, 1]  # Get probabilities for the positive class"
      ],
      "metadata": {
        "id": "cn6l75iHHqwI"
      },
      "execution_count": null,
      "outputs": []
    },
    {
      "cell_type": "code",
      "source": [
        "from sklearn.metrics import accuracy_score, roc_auc_score, classification_report, confusion_matrix, roc_curve\n",
        "import numpy as np\n",
        "\n",
        "# Calculate metrics\n",
        "accuracy = accuracy_score(y_test, y_pred)\n",
        "auc = roc_auc_score(y_test, y_pred_proba)\n",
        "\n",
        "# Calculate KS statistic\n",
        "fpr, tpr, thresholds = roc_curve(y_test, y_pred_proba)\n",
        "ks = np.max(tpr - fpr)\n",
        "\n",
        "# Classification report\n",
        "class_report = classification_report(y_test, y_pred)\n",
        "\n",
        "# Print the metrics\n",
        "print(f\"Accuracy: {accuracy:.4f}\")\n",
        "print(f\"AUC: {auc:.4f}\")\n",
        "print(f\"KS Statistic: {ks:.4f}\")\n",
        "print(\"Classification Report:\\n\", class_report)"
      ],
      "metadata": {
        "colab": {
          "base_uri": "https://localhost:8080/"
        },
        "id": "_E3W7oCKH5tr",
        "outputId": "6e087f59-9137-4bb3-c28e-49882cf5fb61"
      },
      "execution_count": null,
      "outputs": [
        {
          "output_type": "stream",
          "name": "stdout",
          "text": [
            "Accuracy: 0.9400\n",
            "AUC: 0.9590\n",
            "KS Statistic: 0.9000\n",
            "Classification Report:\n",
            "               precision    recall  f1-score   support\n",
            "\n",
            "           0       0.92      0.96      0.94       100\n",
            "           1       0.96      0.92      0.94       100\n",
            "\n",
            "    accuracy                           0.94       200\n",
            "   macro avg       0.94      0.94      0.94       200\n",
            "weighted avg       0.94      0.94      0.94       200\n",
            "\n"
          ]
        }
      ]
    }
  ]
}